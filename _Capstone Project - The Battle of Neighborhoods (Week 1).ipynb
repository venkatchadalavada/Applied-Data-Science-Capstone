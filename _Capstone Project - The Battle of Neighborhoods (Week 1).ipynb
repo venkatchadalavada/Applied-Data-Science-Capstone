{
 "cells": [
  {
   "cell_type": "markdown",
   "metadata": {},
   "source": [
    "# Capstone Project - The Battle of the Neighborhoods (Week 1)\n",
    "\n",
    "### Applied Data Science Capstone by IBM/Coursera"
   ]
  },
  {
   "cell_type": "markdown",
   "metadata": {},
   "source": [
    "### Introduction"
   ]
  },
  {
   "cell_type": "markdown",
   "metadata": {},
   "source": [
    "**Amsterdam**, capital of the Netherlands, is well-known for its vibrant, unique and exquisite and food venues. Almost weekly a new place to eat opens in this city of amazing history, architecture, art, canals, red lights, and, well, coffeeshop culture. The latest is, by all means, one of the greatest tourist attractions from all over the world.\n",
    "\n",
    "**Hereinafter by coffeshops, as the Dutch do, we mean places where one can smoke weed or consume it in the form of pastry sweets, etc. (although quite often there’s also real coffee to drink with your marijuana cookie).** \n",
    "\n",
    "It is a scientifically and empirically proven fact that weed consumption, no matter in which form, increases one’s appetite – in other words, you get very strong food cravings – “the munchies” – from it. There are indeed few places in Amsterdam where you can smoke green and eat food all in one place, but quite often these offer mostly snacks and even rarely – medium to poor cuisine. Thus it is strongly advised by the locals and experienced tourists to plan your coffeeshop experience beforehand – first, consume the marijuana product of choice safely and responsibly at the coffeeshop and then head directly to the food venue nearby. But how does one avoid performing a double search for such a winning combination? Our research is to fill this niche.\n"
   ]
  },
  {
   "cell_type": "markdown",
   "metadata": {},
   "source": [
    "### Business Problem"
   ]
  },
  {
   "cell_type": "markdown",
   "metadata": {},
   "source": [
    "Different groups of people would benefit from our project’s results, namely:\n",
    "\n",
    "1.\tTourists planning their first experience as described above.\n",
    "2.\tAccomplished Amsterdam visitors or even locals looking for new ideas for their following from-coffeeshop-to-restaurant tour.\n",
    "3.\tTourists or locals that, on the contrary, want to avoid dining at a place close to a coffeeshop.\n",
    "4.\tPotential restaurant owners that consider location proximity of their food venue to a coffeeshop as one of the important success factors.\n",
    "\n",
    "To achieve this, we will create a short and simple guide on where to smoke and eat in Amsterdam based on Forsquare likes, restaurant category and geographical location data for restaurants and coffeeshops.  We will also cluster all the restaurants of Amsterdam by their proximity to coffeeshops so that our user could easily determine what is the best duo of places of their interest.\n"
   ]
  },
  {
   "cell_type": "markdown",
   "metadata": {},
   "source": [
    "### Required Data "
   ]
  },
  {
   "cell_type": "markdown",
   "metadata": {},
   "source": [
    "For this assignment, we will be utilizing the Foursquare API to pull the following location data on restaurants and coffeeshops in Amsterdam:\n",
    "\n",
    "*\tVenue Name\n",
    "*\tVenue ID\n",
    "*\tVenue Location\n",
    "*\tVenue Category\n",
    "*\tCount of Likes\n",
    "\n",
    "Note: While our research is focused on Food Venues only, other possible categories can also be used for the same implementation (e.g. proximity to coffeeshops) such as Nightlife, Hotels etc. We have chosen to limit the scope of our research due to Foursquare API daily limit of free user queries."
   ]
  },
  {
   "cell_type": "code",
   "execution_count": null,
   "metadata": {},
   "outputs": [],
   "source": []
  }
 ],
 "metadata": {
  "kernelspec": {
   "display_name": "Python 3",
   "language": "python",
   "name": "python3"
  },
  "language_info": {
   "codemirror_mode": {
    "name": "ipython",
    "version": 3
   },
   "file_extension": ".py",
   "mimetype": "text/x-python",
   "name": "python",
   "nbconvert_exporter": "python",
   "pygments_lexer": "ipython3",
   "version": "3.7.1"
  }
 },
 "nbformat": 4,
 "nbformat_minor": 2
}
